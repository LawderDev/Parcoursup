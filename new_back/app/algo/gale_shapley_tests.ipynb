{
 "cells": [
  {
   "cell_type": "code",
   "execution_count": 19,
   "metadata": {},
   "outputs": [],
   "source": [
    "import random\n",
    "from collections import Counter"
   ]
  },
  {
   "cell_type": "markdown",
   "metadata": {},
   "source": [
    "Voici un rappel de la fonction si on veut en générer d'autres :"
   ]
  },
  {
   "cell_type": "code",
   "execution_count": 26,
   "metadata": {},
   "outputs": [
    {
     "name": "stdout",
     "output_type": "stream",
     "text": [
      "Men's preferences: {'m1': ['w2', 'w1', 'w4', 'w3', 'w5'], 'm2': ['w1', 'w4', 'w3', 'w2', 'w5'], 'm3': ['w4', 'w2', 'w3', 'w1', 'w5'], 'm4': ['w5', 'w4', 'w3', 'w1', 'w2'], 'm5': ['w1', 'w2', 'w4', 'w5', 'w3']}\n",
      "Women's preferences: {'w1': ['m5', 'm2', 'm4', 'm3', 'm1'], 'w2': ['m1', 'm5', 'm2', 'm4', 'm3'], 'w3': ['m3', 'm5', 'm1', 'm2', 'm4'], 'w4': ['m4', 'm3', 'm1', 'm5', 'm2'], 'w5': ['m5', 'm4', 'm2', 'm3', 'm1']}\n"
     ]
    }
   ],
   "source": [
    "def generate_preferences_full(num_people):\n",
    "    men_preferences = {}\n",
    "    women_preferences = {}\n",
    "\n",
    "    all_people = [f\"m{i}\" for i in range(1, num_people + 1)] + [f\"w{i}\" for i in range(1, num_people + 1)]\n",
    "\n",
    "    for person in all_people:\n",
    "        if person.startswith(\"m\"):\n",
    "            preferences = [woman for woman in all_people if woman.startswith(\"w\") and woman != person]\n",
    "            random.shuffle(preferences)\n",
    "            men_preferences[person] = preferences\n",
    "        elif person.startswith(\"w\"):\n",
    "            preferences = [man for man in all_people if man.startswith(\"m\") and man != person]\n",
    "            random.shuffle(preferences)\n",
    "            women_preferences[person] = preferences\n",
    "\n",
    "    return men_preferences, women_preferences\n",
    "\n",
    "# Usage\n",
    "num_people = 5\n",
    "men_preferences, women_preferences = generate_preferences_full(num_people)\n",
    "print(\"Men's preferences:\", men_preferences)\n",
    "print(\"Women's preferences:\", women_preferences)"
   ]
  },
  {
   "cell_type": "markdown",
   "metadata": {},
   "source": [
    "Bonsoir à tous, je propose de partir avec ce beau tableau généré soigneusement avec preferences_set_generation"
   ]
  },
  {
   "cell_type": "code",
   "execution_count": 27,
   "metadata": {},
   "outputs": [],
   "source": [
    "men_preferences = {'m1': ['w2', 'w1', 'w4', 'w3', 'w5'], 'm2': ['w1', 'w4', 'w3', 'w2', 'w5'], 'm3': ['w4', 'w2', 'w3', 'w1', 'w5'], 'm4': ['w5', 'w4', 'w3', 'w1', 'w2'], 'm5': ['w1', 'w2', 'w4', 'w5', 'w3']}\n",
    "women_preferences = {'w1': ['m5', 'm2', 'm4', 'm3', 'm1'], 'w2': ['m1', 'm5', 'm2', 'm4', 'm3'], 'w3': ['m3', 'm5', 'm1', 'm2', 'm4'], 'w4': ['m4', 'm3', 'm1', 'm5', 'm2'], 'w5': ['m5', 'm4', 'm2', 'm3', 'm1']}\n"
   ]
  },
  {
   "cell_type": "markdown",
   "metadata": {},
   "source": [
    "Avant de faire tourner l'algo automatiquement, voilà ce qu'on devrait trouver si on considère qu'on trie en premier les premiers arrivés"
   ]
  },
  {
   "cell_type": "markdown",
   "metadata": {},
   "source": [
    "m1 -> w4\n",
    "\n",
    "m2 -> w2\n",
    "\n",
    "m3 -> w3\n",
    "\n",
    "m4 -> w5\n",
    "\n",
    "m5 -> w1"
   ]
  },
  {
   "cell_type": "markdown",
   "metadata": {},
   "source": [
    "Algo qui marche et qui répond au problème : [Algo Gale-Sharpley en Python](https://towardsdatascience.com/gale-shapley-algorithm-simply-explained-caa344e643c2)"
   ]
  },
  {
   "cell_type": "code",
   "execution_count": 29,
   "metadata": {},
   "outputs": [],
   "source": [
    "def gale_shapley(women_preferences, men_preferences):# Initialize variables\n",
    "    waiting_list = []\n",
    "    proposals = {}\n",
    "    count = 0\n",
    "\n",
    "    # dict to control which women each man can make proposals\n",
    "    women_available = {man: list(women_preferences.keys()) for man in men_preferences.keys()}\n",
    "    men_available = men_preferences.copy()\n",
    "\n",
    "    # while not all men have pairs\n",
    "    while len(waiting_list) < len(men_preferences):\n",
    "        # man makes proposals\n",
    "        for man in men_preferences.keys():\n",
    "            if man not in waiting_list:\n",
    "                # each man make proposal to the top women from his list\n",
    "                women = men_available[man]\n",
    "                best_choice = women[0]  # Man proposes to his top preference woman\n",
    "                proposals[(man, best_choice)] = (women_preferences[best_choice].index(man), men_preferences[man].index(best_choice))\n",
    "                del women_available[man][0]  # Remove the proposed woman from man's available choices\n",
    "        # if women have more than one proposals\n",
    "        # she will choose the best option\n",
    "        overlays = Counter([key[1] for key in proposals.keys()])\n",
    "        # cycle to choose the best options\n",
    "        for woman in overlays.keys():\n",
    "            if overlays[woman] > 1:\n",
    "                # pairs to drop from proposals\n",
    "                pairs_to_drop = sorted({pair: proposals[pair] for pair in proposals.keys()\n",
    "                                        if woman in pair}.items(),\n",
    "                                    key=lambda x: (x[1][1], x[1][0]))[1:]\n",
    "                # if man was rejected by woman\n",
    "                # there is no point for him to make proposal\n",
    "                # second time to the same woman\n",
    "                for p_to_drop in pairs_to_drop:\n",
    "                    del proposals[p_to_drop[0]]\n",
    "                    del men_available[p_to_drop[0][0]][0]  # Remove the proposed woman from man's available choices\n",
    "        # man who successfully created pairs must be added to the waiting list\n",
    "        waiting_list = [man[0] for man in proposals.keys()]\n",
    "        # update counter\n",
    "        count += 1\n",
    "\n",
    "    out = \"Stable Matching Pairs:\"\n",
    "\n",
    "    for pair in proposals:\n",
    "        out += f'\\n{pair[0]} <---> {pair[1]}'\n",
    "\n",
    "    return out\n"
   ]
  },
  {
   "cell_type": "code",
   "execution_count": 30,
   "metadata": {},
   "outputs": [
    {
     "name": "stdout",
     "output_type": "stream",
     "text": [
      "Stable Matching Pairs:\n",
      "m1 <---> w2\n",
      "m3 <---> w4\n",
      "m4 <---> w5\n",
      "m5 <---> w1\n",
      "m2 <---> w3\n"
     ]
    }
   ],
   "source": [
    "print(gale_shapley(women_preferences, men_preferences))"
   ]
  },
  {
   "cell_type": "code",
   "execution_count": 31,
   "metadata": {},
   "outputs": [
    {
     "name": "stdout",
     "output_type": "stream",
     "text": [
      "3.71 µs ± 8.46 ns per loop (mean ± std. dev. of 7 runs, 100,000 loops each)\n"
     ]
    }
   ],
   "source": [
    "%timeit gale_shapley(women_preferences, men_preferences)"
   ]
  },
  {
   "cell_type": "markdown",
   "metadata": {},
   "source": [
    "Nouveau test : que faire s'il y a plus de femmes que d'hommes ?"
   ]
  },
  {
   "cell_type": "code",
   "execution_count": 33,
   "metadata": {},
   "outputs": [
    {
     "name": "stdout",
     "output_type": "stream",
     "text": [
      "Men's preferences: {'m1': ['w1', 'w7', 'w5', 'w4', 'w6', 'w2', 'w8', 'w3'], 'm2': ['w4', 'w8', 'w2', 'w3', 'w5', 'w6', 'w1', 'w7'], 'm3': ['w2', 'w8', 'w4', 'w3', 'w7', 'w5', 'w6', 'w1'], 'm4': ['w7', 'w4', 'w6', 'w2', 'w1', 'w5', 'w8', 'w3'], 'm5': ['w2', 'w6', 'w5', 'w3', 'w1', 'w7', 'w8', 'w4']}\n",
      "Women's preferences: {'w1': ['m4', 'm2', 'm5', 'm3', 'm1'], 'w2': ['m4', 'm3', 'm2', 'm1', 'm5'], 'w3': ['m2', 'm5', 'm4', 'm3', 'm1'], 'w4': ['m2', 'm5', 'm1', 'm3', 'm4'], 'w5': ['m5', 'm4', 'm1', 'm2', 'm3'], 'w6': ['m2', 'm1', 'm4', 'm3', 'm5'], 'w7': ['m5', 'm1', 'm2', 'm4', 'm3'], 'w8': ['m5', 'm1', 'm4', 'm3', 'm2']}\n"
     ]
    }
   ],
   "source": [
    "def generate_preferences_full(num_men, num_women):\n",
    "    men_preferences = {}\n",
    "    women_preferences = {}\n",
    "\n",
    "    men = [f\"m{i}\" for i in range(1, num_men + 1)]\n",
    "    women = [f\"w{i}\" for i in range(1, num_women + 1)]\n",
    "    all_people = men + women\n",
    "\n",
    "    for person in all_people:\n",
    "        if person.startswith(\"m\"):\n",
    "            preferences = [woman for woman in women]\n",
    "            random.shuffle(preferences)\n",
    "            men_preferences[person] = preferences\n",
    "        elif person.startswith(\"w\"):\n",
    "            preferences = [man for man in men]\n",
    "            random.shuffle(preferences)\n",
    "            women_preferences[person] = preferences\n",
    "\n",
    "    return men_preferences, women_preferences\n",
    "\n",
    "# Usage\n",
    "num_men = 5\n",
    "num_women = 8\n",
    "men_preferences, women_preferences = generate_preferences_full(num_men, num_women)\n",
    "print(\"Men's preferences:\", men_preferences)\n",
    "print(\"Women's preferences:\", women_preferences)"
   ]
  },
  {
   "cell_type": "code",
   "execution_count": 1,
   "metadata": {},
   "outputs": [],
   "source": [
    "men_preferences = {'m1': ['w1', 'w7', 'w5', 'w4', 'w6', 'w2', 'w8', 'w3'], 'm2': ['w4', 'w8', 'w2', 'w3', 'w5', 'w6', 'w1', 'w7'], 'm3': ['w2', 'w8', 'w4', 'w3', 'w7', 'w5', 'w6', 'w1'], 'm4': ['w7', 'w4', 'w6', 'w2', 'w1', 'w5', 'w8', 'w3'], 'm5': ['w2', 'w6', 'w5', 'w3', 'w1', 'w7', 'w8', 'w4']}\n",
    "women_preferences = {'w1': ['m4', 'm2', 'm5', 'm3', 'm1'], 'w2': ['m4', 'm3', 'm2', 'm1', 'm5'], 'w3': ['m2', 'm5', 'm4', 'm3', 'm1'], 'w4': ['m2', 'm5', 'm1', 'm3', 'm4'], 'w5': ['m5', 'm4', 'm1', 'm2', 'm3'], 'w6': ['m2', 'm1', 'm4', 'm3', 'm5'], 'w7': ['m5', 'm1', 'm2', 'm4', 'm3'], 'w8': ['m5', 'm1', 'm4', 'm3', 'm2']}\n"
   ]
  },
  {
   "cell_type": "code",
   "execution_count": 35,
   "metadata": {},
   "outputs": [],
   "source": [
    "def gale_shapley(women_preferences, men_preferences):\n",
    "    # Initialize variables\n",
    "    waiting_list = []\n",
    "    proposals = {}\n",
    "    count = 0\n",
    "\n",
    "    # dict to control which women each man can make proposals\n",
    "    women_available = {man: list(women_preferences.keys()) for man in men_preferences.keys()}\n",
    "    men_available = men_preferences.copy()\n",
    "\n",
    "    # while not all men have pairs\n",
    "    while len(waiting_list) < len(men_preferences):\n",
    "        # man makes proposals\n",
    "        for man in men_preferences.keys():\n",
    "            if man not in waiting_list:\n",
    "                # each man make proposal to the top women from his list\n",
    "                women = men_available[man]\n",
    "                best_choice = women[0]  # Man proposes to his top preference woman\n",
    "                proposals[(man, best_choice)] = (women_preferences[best_choice].index(man), men_preferences[man].index(best_choice))\n",
    "                del women_available[man][0]  # Remove the proposed woman from man's available choices\n",
    "        # if women have more than one proposals\n",
    "        # she will choose the best option\n",
    "        overlays = Counter([key[1] for key in proposals.keys()])\n",
    "        # cycle to choose the best options\n",
    "        for woman in overlays.keys():\n",
    "            if overlays[woman] > 1:\n",
    "                # pairs to drop from proposals\n",
    "                pairs_to_drop = sorted({pair: proposals[pair] for pair in proposals.keys()\n",
    "                                        if woman in pair}.items(),\n",
    "                                    key=lambda x: (x[1][1], x[1][0]))[1:]\n",
    "                # if man was rejected by woman\n",
    "                # there is no point for him to make proposal\n",
    "                # second time to the same woman\n",
    "                for p_to_drop in pairs_to_drop:\n",
    "                    del proposals[p_to_drop[0]]\n",
    "                    del men_available[p_to_drop[0][0]][0]  # Remove the proposed woman from man's available choices\n",
    "        # man who successfully created pairs must be added to the waiting list\n",
    "        waiting_list = [man[0] for man in proposals.keys()]\n",
    "        # update counter\n",
    "        count += 1\n",
    "\n",
    "    out = \"Stable Matching Pairs:\"\n",
    "\n",
    "    for pair in proposals:\n",
    "        out += f'\\n{pair[0]} <---> {pair[1]}'\n",
    "\n",
    "    return out\n"
   ]
  },
  {
   "cell_type": "code",
   "execution_count": 36,
   "metadata": {},
   "outputs": [
    {
     "name": "stdout",
     "output_type": "stream",
     "text": [
      "Stable Matching Pairs:\n",
      "m1 <---> w1\n",
      "m2 <---> w4\n",
      "m3 <---> w2\n",
      "m4 <---> w7\n",
      "m5 <---> w6\n"
     ]
    }
   ],
   "source": [
    "print(gale_shapley(women_preferences, men_preferences))"
   ]
  },
  {
   "cell_type": "markdown",
   "metadata": {},
   "source": [
    "Exemple d'appel à la route API gale_shapley"
   ]
  },
  {
   "cell_type": "code",
   "execution_count": 3,
   "metadata": {},
   "outputs": [
    {
     "name": "stdout",
     "output_type": "stream",
     "text": [
      "{'result': {'matched_pairs': [{'man': 'm1', 'woman': 'w1'}, {'man': 'm2', 'woman': 'w4'}, {'man': 'm3', 'woman': 'w2'}, {'man': 'm4', 'woman': 'w7'}, {'man': 'm5', 'woman': 'w6'}]}}\n"
     ]
    }
   ],
   "source": [
    "import requests\n",
    "import json\n",
    "\n",
    "# Combine men and women preferences into a single dictionary\n",
    "data = {\n",
    "    \"men_preferences\": men_preferences,\n",
    "    \"women_preferences\": women_preferences\n",
    "}\n",
    "\n",
    "# Convert data to JSON string\n",
    "json_data = json.dumps(data)\n",
    "\n",
    "# URL of your Flask API endpoint\n",
    "url = \"http://127.0.0.1:5000/api/gale_shapley\"\n",
    "\n",
    "# Send POST request with Content-Type header set to application/json\n",
    "try:\n",
    "    response = requests.post(url, data=json_data, headers={\"Content-Type\": \"application/json\"})\n",
    "    response.raise_for_status()  # Raise an exception for HTTP errors\n",
    "    print(response.json())\n",
    "except requests.HTTPError as e:\n",
    "    print(f\"HTTP error occurred: {e}\")\n",
    "except Exception as e:\n",
    "    print(f\"An error occurred: {e}\")"
   ]
  }
 ],
 "metadata": {
  "kernelspec": {
   "display_name": "Python 3",
   "language": "python",
   "name": "python3"
  },
  "language_info": {
   "codemirror_mode": {
    "name": "ipython",
    "version": 3
   },
   "file_extension": ".py",
   "mimetype": "text/x-python",
   "name": "python",
   "nbconvert_exporter": "python",
   "pygments_lexer": "ipython3",
   "version": "3.12.0"
  }
 },
 "nbformat": 4,
 "nbformat_minor": 2
}
